{
 "cells": [
  {
   "cell_type": "code",
   "execution_count": null,
   "metadata": {},
   "outputs": [],
   "source": [
    "using Revise"
   ]
  },
  {
   "cell_type": "code",
   "execution_count": null,
   "metadata": {},
   "outputs": [],
   "source": [
    "using MeshCat\n",
    "using RigidBodyDynamics\n",
    "using MeshCatMechanisms"
   ]
  },
  {
   "cell_type": "code",
   "execution_count": null,
   "metadata": {},
   "outputs": [],
   "source": [
    "vis = Visualizer()\n",
    "open(vis)  # open the visualizer in a separate tab/window\n",
    "IJuliaCell(vis)"
   ]
  },
  {
   "cell_type": "code",
   "execution_count": null,
   "metadata": {},
   "outputs": [],
   "source": [
    "robot = parse_urdf(Float64, \"test/urdf/Acrobot.urdf\")\n",
    "delete!(vis)\n",
    "mvis = MechanismVisualizer(robot, \"test/urdf/Acrobot.urdf\", vis)\n",
    "state = MechanismState(robot)\n",
    "set_configuration!(state, [1.0, -0.5])\n",
    "setstate!(mvis, state)"
   ]
  },
  {
   "cell_type": "code",
   "execution_count": null,
   "metadata": {},
   "outputs": [],
   "source": [
    "t, q, v = simulate(state, 5.0);"
   ]
  },
  {
   "cell_type": "code",
   "execution_count": null,
   "metadata": {},
   "outputs": [],
   "source": [
    "for i in 1:10:length(t)\n",
    "    set_configuration!(state, q[i])\n",
    "    setstate!(mvis, state)\n",
    "    if i < length(t)\n",
    "        sleep(t[i + 1] - t[i])\n",
    "    end\n",
    "end"
   ]
  },
  {
   "cell_type": "code",
   "execution_count": null,
   "metadata": {},
   "outputs": [],
   "source": [
    "using ValkyrieRobot\n",
    "\n",
    "val = Valkyrie();\n",
    "\n",
    "delete!(vis)\n",
    "mvis = MechanismVisualizer(val.mechanism, ValkyrieRobot.urdfpath(), vis, package_path=[dirname(dirname(ValkyrieRobot.urdfpath()))])\n",
    "\n",
    "state = MechanismState(val.mechanism)\n",
    "setstate!(mvis, state)"
   ]
  },
  {
   "cell_type": "code",
   "execution_count": null,
   "metadata": {},
   "outputs": [],
   "source": [
    "using ValkyrieRobot.BipedControlUtil: Side, flipsign_if_right\n",
    "\n",
    "function initialize(state::MechanismState, val::Valkyrie, vis::MechanismVisualizer)\n",
    "    zero!(state)\n",
    "    mechanism = val.mechanism\n",
    "    for side in instances(Side)\n",
    "        set_configuration!(state, findjoint(mechanism, \"$(side)KneePitch\"), [1.205])\n",
    "        set_configuration!(state, findjoint(mechanism, \"$(side)HipPitch\"), [-0.49])\n",
    "        set_configuration!(state, findjoint(mechanism, \"$(side)AnklePitch\"), [-0.71])\n",
    "        set_configuration!(state, findjoint(mechanism, \"$(side)ShoulderPitch\"), [0.300196631343025])\n",
    "        set_configuration!(state, findjoint(mechanism, \"$(side)ShoulderRoll\"), [flipsign_if_right(-1.25, side)])\n",
    "        set_configuration!(state, findjoint(mechanism, \"$(side)ElbowPitch\"), [flipsign_if_right(-0.785398163397448, side)])\n",
    "        set_configuration!(state, findjoint(mechanism, \"$(side)ForearmYaw\"), [1.571])\n",
    "    end\n",
    "    set_configuration!(state, val.basejoint, [1; 0; 0; 0; 0; 0; 1.025])\n",
    "    setstate!(vis, state)\n",
    "    nothing\n",
    "end\n",
    "\n",
    "initialize(state, val, mvis)"
   ]
  },
  {
   "cell_type": "code",
   "execution_count": null,
   "metadata": {},
   "outputs": [],
   "source": [
    "robot = parse_urdf(Float64, \"test/urdf/Acrobot_fixed.urdf\")\n",
    "RigidBodyDynamics.remove_fixed_tree_joints!(robot)\n",
    "delete!(vis)\n",
    "mvis = MechanismVisualizer(robot, \"test/urdf/Acrobot_fixed.urdf\", vis)\n",
    "\n",
    "state = MechanismState(robot)\n",
    "set_configuration!(state, [0.5])\n",
    "setstate!(mvis, state)"
   ]
  },
  {
   "cell_type": "code",
   "execution_count": null,
   "metadata": {},
   "outputs": [],
   "source": [
    "for theta in linspace(-pi, pi, 1000)\n",
    "    set_configuration!(state, [theta])\n",
    "    setstate!(mvis, state)\n",
    "    sleep(0.001)\n",
    "end"
   ]
  },
  {
   "cell_type": "code",
   "execution_count": null,
   "metadata": {},
   "outputs": [],
   "source": []
  }
 ],
 "metadata": {
  "kernelspec": {
   "display_name": "Julia 0.6.2",
   "language": "julia",
   "name": "julia-0.6"
  },
  "language_info": {
   "file_extension": ".jl",
   "mimetype": "application/julia",
   "name": "julia",
   "version": "0.6.2"
  }
 },
 "nbformat": 4,
 "nbformat_minor": 2
}
