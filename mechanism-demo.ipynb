{
 "cells": [
  {
   "cell_type": "code",
   "execution_count": null,
   "metadata": {},
   "outputs": [],
   "source": [
    "using MeshCat\n",
    "using RigidBodyDynamics\n",
    "using MeshCatMechanisms"
   ]
  },
  {
   "cell_type": "code",
   "execution_count": null,
   "metadata": {},
   "outputs": [],
   "source": [
    "vis = Visualizer()\n",
    "# open(vis)  # open the visualizer in a separate tab/window\n",
    "IJuliaCell(vis)"
   ]
  },
  {
   "cell_type": "code",
   "execution_count": null,
   "metadata": {},
   "outputs": [],
   "source": [
    "urdf = joinpath(Pkg.dir(\"MeshCatMechanisms\"), \"test\", \"urdf\", \"Acrobot.urdf\")\n",
    "robot = parse_urdf(Float64, urdf)\n",
    "delete!(vis)\n",
    "mvis = MechanismVisualizer(robot, urdf, vis)\n",
    "set_configuration!(mvis, [1.0, -0.5])"
   ]
  },
  {
   "cell_type": "code",
   "execution_count": null,
   "metadata": {},
   "outputs": [],
   "source": [
    "state = MechanismState(robot, randn(2), randn(2))\n",
    "t, q, v = simulate(state, 5.0);\n",
    "\n",
    "animate(mvis, t, q)"
   ]
  },
  {
   "cell_type": "code",
   "execution_count": null,
   "metadata": {},
   "outputs": [],
   "source": [
    "using ValkyrieRobot\n",
    "\n",
    "val = Valkyrie();\n",
    "delete!(vis)\n",
    "mvis = MechanismVisualizer(\n",
    "    val.mechanism, \n",
    "    ValkyrieRobot.urdfpath(),\n",
    "    vis, \n",
    "    package_path=[dirname(dirname(ValkyrieRobot.urdfpath()))]);"
   ]
  },
  {
   "cell_type": "code",
   "execution_count": null,
   "metadata": {},
   "outputs": [],
   "source": [
    "using ValkyrieRobot.BipedControlUtil: Side, flipsign_if_right\n",
    "\n",
    "function initialize!(state::MechanismState, val::Valkyrie)\n",
    "    zero!(state)\n",
    "    mechanism = val.mechanism\n",
    "    for side in instances(Side)\n",
    "        set_configuration!(state, findjoint(mechanism, \"$(side)KneePitch\"), [1.205])\n",
    "        set_configuration!(state, findjoint(mechanism, \"$(side)HipPitch\"), [-0.49])\n",
    "        set_configuration!(state, findjoint(mechanism, \"$(side)AnklePitch\"), [-0.71])\n",
    "        set_configuration!(state, findjoint(mechanism, \"$(side)ShoulderPitch\"), [0.300196631343025])\n",
    "        set_configuration!(state, findjoint(mechanism, \"$(side)ShoulderRoll\"), [flipsign_if_right(-1.25, side)])\n",
    "        set_configuration!(state, findjoint(mechanism, \"$(side)ElbowPitch\"), [flipsign_if_right(-0.785398163397448, side)])\n",
    "        set_configuration!(state, findjoint(mechanism, \"$(side)ForearmYaw\"), [1.571])\n",
    "    end\n",
    "    set_configuration!(state, val.basejoint, [1; 0; 0; 0; 0; 0; 1.025])\n",
    "    nothing\n",
    "end\n",
    "state = MechanismState(val.mechanism)\n",
    "initialize!(state, val)\n",
    "set_configuration!(mvis, configuration(state))"
   ]
  },
  {
   "cell_type": "code",
   "execution_count": null,
   "metadata": {},
   "outputs": [],
   "source": []
  }
 ],
 "metadata": {
  "kernelspec": {
   "display_name": "Julia 0.6.2",
   "language": "julia",
   "name": "julia-0.6"
  },
  "language_info": {
   "file_extension": ".jl",
   "mimetype": "application/julia",
   "name": "julia",
   "version": "0.6.2"
  }
 },
 "nbformat": 4,
 "nbformat_minor": 2
}
